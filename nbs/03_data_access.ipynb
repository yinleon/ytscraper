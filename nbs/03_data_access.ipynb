{
 "cells": [
  {
   "cell_type": "code",
   "execution_count": 16,
   "metadata": {},
   "outputs": [
    {
     "name": "stdout",
     "output_type": "stream",
     "text": [
      "Updated 2018-03-14 16:11:57.274538\n",
      "By leonyin\n",
      "Using Python 3.6.1\n",
      "On Darwin-17.4.0-x86_64-i386-64bit\n"
     ]
    }
   ],
   "source": [
    "import glob\n",
    "import pandas as pd\n",
    "from tqdm import tqdm_notebook as tqdm\n",
    "from runtimestamp.runtimestamp import runtimestamp\n",
    "runtimestamp() "
   ]
  },
  {
   "cell_type": "code",
   "execution_count": 4,
   "metadata": {},
   "outputs": [
    {
     "name": "stdout",
     "output_type": "stream",
     "text": [
      "\u001b[34mUU-lHJZR3Gqxm24_Vd_AJ5Yw\u001b[m\u001b[m \u001b[34mUUGy6uV7yqGWDeUWTZzT3ZEg\u001b[m\u001b[m \u001b[34mUUUowFWIWGw6Pv2JqfEj8njQ\u001b[m\u001b[m\r\n",
      "\u001b[34mUU-oGhTTXFHBydqyG-ENiwTw\u001b[m\u001b[m \u001b[34mUUIZBXVGIJoJMXf8giib0IiQ\u001b[m\u001b[m \u001b[34mUUZNk7Jjb2t8EuBdgn4Zj1cw\u001b[m\u001b[m\r\n",
      "\u001b[34mUU-yewGHQbNFpDrGM0diZOLA\u001b[m\u001b[m \u001b[34mUUIveFvW-ARp_B_RckhweNJw\u001b[m\u001b[m \u001b[34mUUZWlSUNDvCCS1hBiXV0zKcA\u001b[m\u001b[m\r\n",
      "\u001b[34mUU0aanx5rpr7D1M7KCFYzrLQ\u001b[m\u001b[m \u001b[34mUUJ6o36XL0CpYb6U5dNBiXHQ\u001b[m\u001b[m \u001b[34mUUZZFrPKyH-Le2uoPGnn5jyg\u001b[m\u001b[m\r\n",
      "\u001b[34mUU0lgfusYd1dSu92G37-A1Zw\u001b[m\u001b[m \u001b[34mUUJdKr0Bgd_5saZYqLCa9mng\u001b[m\u001b[m \u001b[34mUUZeP6H2mELnRI9imY5Iga0g\u001b[m\u001b[m\r\n",
      "\u001b[34mUU0rZoXAD5lxgBHMsjrGwWWQ\u001b[m\u001b[m \u001b[34mUUJm5yR1KFcysl_0I3x-iReg\u001b[m\u001b[m \u001b[34mUUaeO5vkdj5xOQHp4UmIN6dw\u001b[m\u001b[m\r\n",
      "\u001b[34mUU16j6EppP0K85CzYMduNCqw\u001b[m\u001b[m \u001b[34mUUJpdwEg7vrj_61e0Bfnx02w\u001b[m\u001b[m \u001b[34mUUctjGdm2NlMNzIlxz02IsXA\u001b[m\u001b[m\r\n",
      "\u001b[34mUU1BWMtZbNLVMSFgwSukjqCw\u001b[m\u001b[m \u001b[34mUUKEt1xKVBLuL175dkk8rqLg\u001b[m\u001b[m \u001b[34mUUesrUK_dMDBZAf7cnjQPdgQ\u001b[m\u001b[m\r\n",
      "\u001b[34mUU2h3yPmh9TfQv2z3aTDTHHA\u001b[m\u001b[m \u001b[34mUUL0u5uz7KZ9q-pe-VC8TY-w\u001b[m\u001b[m \u001b[34mUUfYbb7nga6-icsFWWgS-kWw\u001b[m\u001b[m\r\n",
      "\u001b[34mUU2w1CQqPli4w94-PCg2UvJQ\u001b[m\u001b[m \u001b[34mUULGRZ0xSaBMIUmtn8wkPP3w\u001b[m\u001b[m \u001b[34mUUhBsOxskMpDmBAsgJ91fKcg\u001b[m\u001b[m\r\n",
      "\u001b[34mUU554eY5jNUfDq3yDOJYirOQ\u001b[m\u001b[m \u001b[34mUULKaXsHvR57FNU9kXOca4Jg\u001b[m\u001b[m \u001b[34mUUittVh8imKanO_5KohzDbpg\u001b[m\u001b[m\r\n",
      "\u001b[34mUU5tEELgWBfKbA9fVPRzBzPQ\u001b[m\u001b[m \u001b[34mUULUrVTVTA3PnUFpYvpfMcpg\u001b[m\u001b[m \u001b[34mUUjNxszyFPasDdRoD9J6X-sw\u001b[m\u001b[m\r\n",
      "\u001b[34mUU7SeFWZYFmsm1tqWxfuOTPQ\u001b[m\u001b[m \u001b[34mUUL_f53ZEJxp8TtlOkHwMV9Q\u001b[m\u001b[m \u001b[34mUUl3RCEtooHD5bhPCHJw3btA\u001b[m\u001b[m\r\n",
      "\u001b[34mUU7e57qWIEAZTQAaFwHpKdlw\u001b[m\u001b[m \u001b[34mUULfhh63n0fWn0gXXKQ5NWvw\u001b[m\u001b[m \u001b[34mUUlMWnUHbxJKJLUgloN1mPUA\u001b[m\u001b[m\r\n",
      "\u001b[34mUU8RJExf7iNpV6tp6hvNtwww\u001b[m\u001b[m \u001b[34mUULtREJY21xRfCuEKvdki1Kw\u001b[m\u001b[m \u001b[34mUUla6APLHX6W3FeNLc8PYuvg\u001b[m\u001b[m\r\n",
      "\u001b[34mUU9s3HwtzqzZ_OOUtfQwz_vw\u001b[m\u001b[m \u001b[34mUUMLbmp5tcLxzahMLTmeM4lg\u001b[m\u001b[m \u001b[34mUUlt01z1wHHT7c5lKcU8pxRQ\u001b[m\u001b[m\r\n",
      "\u001b[34mUU9vwJXx7DR-3zSub4mwQNFg\u001b[m\u001b[m \u001b[34mUUMOaRU-YsXVgU-WahBkZqWQ\u001b[m\u001b[m \u001b[34mUUmb8hO2ilV9vRa8cilis88A\u001b[m\u001b[m\r\n",
      "\u001b[34mUUAgBUlIpzlJaE0693J3s97w\u001b[m\u001b[m \u001b[34mUUN0-RRaxMgh86eOwndAklxw\u001b[m\u001b[m \u001b[34mUUmrLCXSDScliR7q8AxxjvXg\u001b[m\u001b[m\r\n",
      "\u001b[34mUUAldq8BAAGdsX9UyK_09-ZA\u001b[m\u001b[m \u001b[34mUUNbIDJNNgaRrXOD7VllIMRQ\u001b[m\u001b[m \u001b[34mUUowcNKm1w2GGw5U_XQeduhg\u001b[m\u001b[m\r\n",
      "\u001b[34mUUB7M2FJjnrVTprc9sBWbYWg\u001b[m\u001b[m \u001b[34mUUNiNWbmPWehjpQohglWsKxw\u001b[m\u001b[m \u001b[34mUUpWgFvvSXrsW9ilP7uRKd9Q\u001b[m\u001b[m\r\n",
      "\u001b[34mUUC3L8QaxqEGUiBC252GHy3w\u001b[m\u001b[m \u001b[34mUUO2UaBiDJsFzjaK7666wydQ\u001b[m\u001b[m \u001b[34mUUpbyOgUSjTSPpvVUAT2OyHw\u001b[m\u001b[m\r\n",
      "\u001b[34mUUDgchsbJnrX604K-xWsd-fQ\u001b[m\u001b[m \u001b[34mUUOtFVJUoek4TKZAaeQVhiLA\u001b[m\u001b[m \u001b[34mUUr_Q-bPpcw5fJ-Oow1BW1NQ\u001b[m\u001b[m\r\n",
      "\u001b[34mUUDmCBKaKOtOrEqgsL4-3C8Q\u001b[m\u001b[m \u001b[34mUURUhJlurBdyGwVyyaAdwS9w\u001b[m\u001b[m \u001b[34mUUsJ86N5n7fcEC_Ds8dYJKzA\u001b[m\u001b[m\r\n",
      "\u001b[34mUUFQPIMzJ6wD8nYv7vCdE-MQ\u001b[m\u001b[m \u001b[34mUUSTy-H5lSiCcozas32sfJlQ\u001b[m\u001b[m \u001b[34mUUuFlctNwFfnzjDC5UzB6fFQ\u001b[m\u001b[m\r\n",
      "\u001b[34mUUFUC7NaTxZanB_FVOJN92eg\u001b[m\u001b[m \u001b[34mUUSYOszJBcj3ELJk2S0izwHg\u001b[m\u001b[m \u001b[34mUUvsye7V9psc-APX6wV1twLg\u001b[m\u001b[m\r\n",
      "\u001b[34mUUG749Dj4V2fKa143f8sE60Q\u001b[m\u001b[m \u001b[34mUUT9D87j5W7PtE7NHOR5DUOQ\u001b[m\u001b[m \u001b[34mUUxXUQuvoiIAlpM2osoAitjQ\u001b[m\u001b[m\r\n",
      "\u001b[34mUUGP7Obfm6Z1TFg_Pwx4ctxg\u001b[m\u001b[m \u001b[34mUUTp3E7dIJ_l7ENceei6DExg\u001b[m\u001b[m \u001b[34mUUzQUP1qoWDoEbmsQxvdjxgQ\u001b[m\u001b[m\r\n"
     ]
    }
   ],
   "source": [
    "!ls ../data/query/"
   ]
  },
  {
   "cell_type": "code",
   "execution_count": 6,
   "metadata": {},
   "outputs": [
    {
     "name": "stdout",
     "output_type": "stream",
     "text": [
      "video_metadata.tsv video_urls.csv\r\n"
     ]
    }
   ],
   "source": [
    "!ls ../data/query/UU-lHJZR3Gqxm24_Vd_AJ5Yw/"
   ]
  },
  {
   "cell_type": "code",
   "execution_count": 7,
   "metadata": {
    "collapsed": true
   },
   "outputs": [],
   "source": [
    "data_in = '../data/query/*/video_metadata.tsv'"
   ]
  },
  {
   "cell_type": "code",
   "execution_count": 9,
   "metadata": {},
   "outputs": [
    {
     "data": {
      "text/plain": [
       "76"
      ]
     },
     "execution_count": 9,
     "metadata": {},
     "output_type": "execute_result"
    }
   ],
   "source": [
    "files = glob.glob(data_in)\n",
    "len(files)"
   ]
  },
  {
   "cell_type": "code",
   "execution_count": 77,
   "metadata": {},
   "outputs": [
    {
     "data": {
      "text/plain": [
       "415"
      ]
     },
     "execution_count": 77,
     "metadata": {},
     "output_type": "execute_result"
    }
   ],
   "source": [
    "f = files[0]\n",
    "df = pd.read_csv(f, sep='\\t', dtype={'video_category' : str})\n",
    "len(df)"
   ]
  },
  {
   "cell_type": "code",
   "execution_count": 101,
   "metadata": {},
   "outputs": [
    {
     "data": {
      "application/vnd.jupyter.widget-view+json": {
       "model_id": "36b546c49af64a2ea9cf9548ff145c09"
      }
     },
     "metadata": {},
     "output_type": "display_data"
    },
    {
     "name": "stdout",
     "output_type": "stream",
     "text": [
      "\n"
     ]
    },
    {
     "data": {
      "text/plain": [
       "43127"
      ]
     },
     "execution_count": 101,
     "metadata": {},
     "output_type": "execute_result"
    }
   ],
   "source": [
    "df = pd.DataFrame()\n",
    "for f in tqdm(files):\n",
    "    df_ = pd.read_csv(f, sep='\\t', dtype={'video_category' : str})\n",
    "    df = df.append(df_)\n",
    "len(df)"
   ]
  },
  {
   "cell_type": "code",
   "execution_count": 92,
   "metadata": {},
   "outputs": [
    {
     "data": {
      "text/html": [
       "<div>\n",
       "<table border=\"1\" class=\"dataframe\">\n",
       "  <thead>\n",
       "    <tr style=\"text-align: right;\">\n",
       "      <th></th>\n",
       "      <th>channel_id</th>\n",
       "      <th>channel_title</th>\n",
       "      <th>collection_date</th>\n",
       "      <th>video_category</th>\n",
       "      <th>video_comment_count</th>\n",
       "      <th>video_description</th>\n",
       "      <th>video_dislike_count</th>\n",
       "      <th>video_id</th>\n",
       "      <th>video_like_count</th>\n",
       "      <th>video_publish_date</th>\n",
       "      <th>video_thumbnail</th>\n",
       "      <th>video_title</th>\n",
       "      <th>video_view_count</th>\n",
       "    </tr>\n",
       "  </thead>\n",
       "  <tbody>\n",
       "    <tr>\n",
       "      <th>0</th>\n",
       "      <td>UCIveFvW-ARp_B_RckhweNJw</td>\n",
       "      <td>StevenCrowder</td>\n",
       "      <td>2018-03-14 15:23:20.614022</td>\n",
       "      <td>Comedy</td>\n",
       "      <td>3235.0</td>\n",
       "      <td>Steven Crowder skewers Democrats and their hyp...</td>\n",
       "      <td>302.0</td>\n",
       "      <td>nWD3fIZUAO8</td>\n",
       "      <td>18216.0</td>\n",
       "      <td>2018-03-13 01:00:03.000000</td>\n",
       "      <td>https://i.ytimg.com/vi/nWD3fIZUAO8/hqdefault.jpg</td>\n",
       "      <td>Why Democrats LOVE Racist Extremists! | Louder...</td>\n",
       "      <td>266427.0</td>\n",
       "    </tr>\n",
       "    <tr>\n",
       "      <th>1</th>\n",
       "      <td>UCIveFvW-ARp_B_RckhweNJw</td>\n",
       "      <td>StevenCrowder</td>\n",
       "      <td>2018-03-14 15:23:20.614022</td>\n",
       "      <td>Comedy</td>\n",
       "      <td>3638.0</td>\n",
       "      <td>Talking all things top news, teachers salaries...</td>\n",
       "      <td>332.0</td>\n",
       "      <td>ev8xQG1fkDY</td>\n",
       "      <td>9297.0</td>\n",
       "      <td>2018-03-09 20:18:57.000000</td>\n",
       "      <td>https://i.ytimg.com/vi/ev8xQG1fkDY/hqdefault.jpg</td>\n",
       "      <td>#296 WHY CAN’T TRUMP KEEP STAFF?? Ben Shapiro ...</td>\n",
       "      <td>264787.0</td>\n",
       "    </tr>\n",
       "    <tr>\n",
       "      <th>2</th>\n",
       "      <td>UCIveFvW-ARp_B_RckhweNJw</td>\n",
       "      <td>StevenCrowder</td>\n",
       "      <td>2018-03-14 15:23:20.614022</td>\n",
       "      <td>Comedy</td>\n",
       "      <td>6736.0</td>\n",
       "      <td>Should public school teachers with concealed c...</td>\n",
       "      <td>766.0</td>\n",
       "      <td>WY0srPDYiTs</td>\n",
       "      <td>25587.0</td>\n",
       "      <td>2018-03-08 02:00:07.000000</td>\n",
       "      <td>https://i.ytimg.com/vi/WY0srPDYiTs/hqdefault.jpg</td>\n",
       "      <td>SHOULD WE ARM TEACHERS?! Of Course... | Louder...</td>\n",
       "      <td>363502.0</td>\n",
       "    </tr>\n",
       "    <tr>\n",
       "      <th>3</th>\n",
       "      <td>UCIveFvW-ARp_B_RckhweNJw</td>\n",
       "      <td>StevenCrowder</td>\n",
       "      <td>2018-03-14 15:23:20.614022</td>\n",
       "      <td>Comedy</td>\n",
       "      <td>19483.0</td>\n",
       "      <td>Steven Crowder takes to the streets to have re...</td>\n",
       "      <td>515.0</td>\n",
       "      <td>7pN6ZgGRfQU</td>\n",
       "      <td>63769.0</td>\n",
       "      <td>2018-03-07 02:00:00.000000</td>\n",
       "      <td>https://i.ytimg.com/vi/7pN6ZgGRfQU/hqdefault.jpg</td>\n",
       "      <td>REAL CONVERSATIONS: Male Privilege Is A Myth (...</td>\n",
       "      <td>1031217.0</td>\n",
       "    </tr>\n",
       "    <tr>\n",
       "      <th>4</th>\n",
       "      <td>UCIveFvW-ARp_B_RckhweNJw</td>\n",
       "      <td>StevenCrowder</td>\n",
       "      <td>2018-03-14 15:23:20.614022</td>\n",
       "      <td>Comedy</td>\n",
       "      <td>1078.0</td>\n",
       "      <td>Steven Crowder debuts his politically less cha...</td>\n",
       "      <td>134.0</td>\n",
       "      <td>m1H_5TdxUTc</td>\n",
       "      <td>11294.0</td>\n",
       "      <td>2018-03-06 02:00:04.000000</td>\n",
       "      <td>https://i.ytimg.com/vi/m1H_5TdxUTc/hqdefault.jpg</td>\n",
       "      <td>Death Wish Gets #SJW Makeover! (Parody) | Loud...</td>\n",
       "      <td>141780.0</td>\n",
       "    </tr>\n",
       "  </tbody>\n",
       "</table>\n",
       "</div>"
      ],
      "text/plain": [
       "                 channel_id  channel_title             collection_date  \\\n",
       "0  UCIveFvW-ARp_B_RckhweNJw  StevenCrowder  2018-03-14 15:23:20.614022   \n",
       "1  UCIveFvW-ARp_B_RckhweNJw  StevenCrowder  2018-03-14 15:23:20.614022   \n",
       "2  UCIveFvW-ARp_B_RckhweNJw  StevenCrowder  2018-03-14 15:23:20.614022   \n",
       "3  UCIveFvW-ARp_B_RckhweNJw  StevenCrowder  2018-03-14 15:23:20.614022   \n",
       "4  UCIveFvW-ARp_B_RckhweNJw  StevenCrowder  2018-03-14 15:23:20.614022   \n",
       "\n",
       "  video_category  video_comment_count  \\\n",
       "0         Comedy               3235.0   \n",
       "1         Comedy               3638.0   \n",
       "2         Comedy               6736.0   \n",
       "3         Comedy              19483.0   \n",
       "4         Comedy               1078.0   \n",
       "\n",
       "                                   video_description  video_dislike_count  \\\n",
       "0  Steven Crowder skewers Democrats and their hyp...                302.0   \n",
       "1  Talking all things top news, teachers salaries...                332.0   \n",
       "2  Should public school teachers with concealed c...                766.0   \n",
       "3  Steven Crowder takes to the streets to have re...                515.0   \n",
       "4  Steven Crowder debuts his politically less cha...                134.0   \n",
       "\n",
       "      video_id  video_like_count          video_publish_date  \\\n",
       "0  nWD3fIZUAO8           18216.0  2018-03-13 01:00:03.000000   \n",
       "1  ev8xQG1fkDY            9297.0  2018-03-09 20:18:57.000000   \n",
       "2  WY0srPDYiTs           25587.0  2018-03-08 02:00:07.000000   \n",
       "3  7pN6ZgGRfQU           63769.0  2018-03-07 02:00:00.000000   \n",
       "4  m1H_5TdxUTc           11294.0  2018-03-06 02:00:04.000000   \n",
       "\n",
       "                                    video_thumbnail  \\\n",
       "0  https://i.ytimg.com/vi/nWD3fIZUAO8/hqdefault.jpg   \n",
       "1  https://i.ytimg.com/vi/ev8xQG1fkDY/hqdefault.jpg   \n",
       "2  https://i.ytimg.com/vi/WY0srPDYiTs/hqdefault.jpg   \n",
       "3  https://i.ytimg.com/vi/7pN6ZgGRfQU/hqdefault.jpg   \n",
       "4  https://i.ytimg.com/vi/m1H_5TdxUTc/hqdefault.jpg   \n",
       "\n",
       "                                         video_title  video_view_count  \n",
       "0  Why Democrats LOVE Racist Extremists! | Louder...          266427.0  \n",
       "1  #296 WHY CAN’T TRUMP KEEP STAFF?? Ben Shapiro ...          264787.0  \n",
       "2  SHOULD WE ARM TEACHERS?! Of Course... | Louder...          363502.0  \n",
       "3  REAL CONVERSATIONS: Male Privilege Is A Myth (...         1031217.0  \n",
       "4  Death Wish Gets #SJW Makeover! (Parody) | Loud...          141780.0  "
      ]
     },
     "execution_count": 92,
     "metadata": {},
     "output_type": "execute_result"
    }
   ],
   "source": [
    "df.head()"
   ]
  },
  {
   "cell_type": "code",
   "execution_count": 98,
   "metadata": {},
   "outputs": [
    {
     "data": {
      "text/plain": [
       "{'1': 'Film & Animation',\n",
       " '10': 'Music',\n",
       " '15': 'Pets & Animals',\n",
       " '17': 'Sports',\n",
       " '18': 'Short Movies',\n",
       " '19': 'Travel & Events',\n",
       " '2': 'Autos & Vehicles',\n",
       " '20': 'Gaming',\n",
       " '21': 'Videoblogging',\n",
       " '22': 'People & Blogs',\n",
       " '23': 'Comedy',\n",
       " '24': 'Entertainment',\n",
       " '25': 'News & Politics',\n",
       " '26': 'Howto & Style',\n",
       " '27': 'Education',\n",
       " '28': 'Science & Technology',\n",
       " '29': 'Nonprofits & Activism',\n",
       " '30': 'Movies',\n",
       " '31': 'Anime/Animation',\n",
       " '32': 'Action/Adventure',\n",
       " '33': 'Classics',\n",
       " '34': 'Comedy',\n",
       " '35': 'Documentary',\n",
       " '36': 'Drama',\n",
       " '37': 'Family',\n",
       " '38': 'Foreign',\n",
       " '39': 'Horror',\n",
       " '40': 'Sci-Fi/Fantasy',\n",
       " '41': 'Thriller',\n",
       " '42': 'Shorts',\n",
       " '43': 'Shows',\n",
       " '44': 'Trailers'}"
      ]
     },
     "execution_count": 98,
     "metadata": {},
     "output_type": "execute_result"
    }
   ],
   "source": [
    "# parsed from https://gist.github.com/dgp/1b24bf2961521bd75d6c\n",
    "cat_file = '../data/categories.json'\n",
    "with open(cat_file, 'r') as f_handle:\n",
    "    categories = json.load(f_handle)\n",
    "categories "
   ]
  },
  {
   "cell_type": "code",
   "execution_count": 102,
   "metadata": {},
   "outputs": [],
   "source": [
    "df['video_category'].replace(categories, inplace=True)"
   ]
  },
  {
   "cell_type": "code",
   "execution_count": 103,
   "metadata": {},
   "outputs": [
    {
     "data": {
      "text/plain": [
       "News & Politics          29243\n",
       "People & Blogs            4670\n",
       "Entertainment             2572\n",
       "Comedy                    2008\n",
       "Education                 1802\n",
       "Gaming                    1084\n",
       "Nonprofits & Activism      767\n",
       "Science & Technology       720\n",
       "Music                       54\n",
       "Howto & Style               52\n",
       "Film & Animation            51\n",
       "Travel & Events             51\n",
       "Sports                      21\n",
       "Pets & Animals              19\n",
       "Autos & Vehicles            13\n",
       "Name: video_category, dtype: int64"
      ]
     },
     "execution_count": 103,
     "metadata": {},
     "output_type": "execute_result"
    }
   ],
   "source": [
    "df['video_category'].value_counts()"
   ]
  },
  {
   "cell_type": "code",
   "execution_count": 88,
   "metadata": {},
   "outputs": [
    {
     "data": {
      "text/plain": [
       "The Alex Jones Channel        13831\n",
       "Rebel Media                    5481\n",
       "One America News Network       2852\n",
       "Styxhexenhammer666             2412\n",
       "mundanematt                    2047\n",
       "The Daily Wire                 1395\n",
       "Vee                            1024\n",
       "Stefan Molyneux                 972\n",
       "PewDiePie                       871\n",
       "Destiny                         830\n",
       "PowerfulJRE                     687\n",
       "The Rubin Report                603\n",
       "Red Ice TV                      552\n",
       "Computing Forever               549\n",
       "ThuleanPerspective              536\n",
       "Andywarski                      505\n",
       "Tim Pool                        504\n",
       "Millennial Woes                 443\n",
       "StevenCrowder                   415\n",
       "Sargon of Akkad                 399\n",
       "No Bullshit                     381\n",
       "TJ Kirk                         331\n",
       "SomeBlackGuy                    252\n",
       "PragerU                         251\n",
       "Paul Joseph Watson              246\n",
       "James Allsup                    219\n",
       "Black Pigeon Speaks             214\n",
       "Jordan B Peterson               200\n",
       "Thunderf00t                     194\n",
       "Jeff Holiday                    189\n",
       "                              ...  \n",
       "Shaun                            99\n",
       "Bre Faucheux                     99\n",
       "Count Dankula                    97\n",
       "Lauren Southern                  97\n",
       "Brittany Pettibone               92\n",
       "The Alternative Hypothesis       89\n",
       "Mouthy Buddha                    88\n",
       "Mister Metokur                   82\n",
       "American Renaissance             78\n",
       "Blaire White                     77\n",
       "Roosh V                          75\n",
       "Armoured Skeptic                 60\n",
       "H3 Podcast                       58\n",
       "Theryn Meyer                     53\n",
       "hbomberguy                       49\n",
       "ashtonbirdie                     44\n",
       "Kraut and Tea                    44\n",
       "Shoe0nHead                       42\n",
       "MillionDollarExtreme             39\n",
       "Lauren Rose                      36\n",
       "Naked Ape                        36\n",
       "ABitOfBritt                      27\n",
       "lacigreen                        27\n",
       "Candace Owens                    24\n",
       "Baked Alaska                     18\n",
       "Braving Ruin                     18\n",
       "usernamegold                     12\n",
       "Faith J Goldy                     7\n",
       "LAWereWolf                        5\n",
       "weevlos                           3\n",
       "Name: channel_title, dtype: int64"
      ]
     },
     "execution_count": 88,
     "metadata": {},
     "output_type": "execute_result"
    }
   ],
   "source": [
    "df['channel_title'].value_counts()"
   ]
  },
  {
   "cell_type": "code",
   "execution_count": 27,
   "metadata": {},
   "outputs": [
    {
     "data": {
      "text/plain": [
       "channel_id                                      UCIveFvW-ARp_B_RckhweNJw\n",
       "channel_title                                              StevenCrowder\n",
       "collection_date                               2018-03-14 15:23:20.614022\n",
       "video_category                                                        23\n",
       "video_comment_count                                                 3235\n",
       "video_description      Steven Crowder skewers Democrats and their hyp...\n",
       "video_dislike_count                                                  302\n",
       "video_id                                                     nWD3fIZUAO8\n",
       "video_like_count                                                   18216\n",
       "video_publish_date                            2018-03-13 01:00:03.000000\n",
       "video_thumbnail         https://i.ytimg.com/vi/nWD3fIZUAO8/hqdefault.jpg\n",
       "video_title            Why Democrats LOVE Racist Extremists! | Louder...\n",
       "video_view_count                                                  266427\n",
       "Name: 0, dtype: object"
      ]
     },
     "execution_count": 27,
     "metadata": {},
     "output_type": "execute_result"
    }
   ],
   "source": [
    "df.iloc[0]"
   ]
  },
  {
   "cell_type": "code",
   "execution_count": 28,
   "metadata": {
    "collapsed": true
   },
   "outputs": [],
   "source": [
    "from nltk.tag import pos_tag\n",
    "\n",
    "sentence = \"Michael Jackson likes to eat at McDonalds\"\n",
    "tagged_sent = pos_tag(sentence.split())\n",
    "# [('Michael', 'NNP'), ('Jackson', 'NNP'), ('likes', 'VBZ'), ('to', 'TO'), ('eat', 'VB'), ('at', 'IN'), ('McDonalds', 'NNP')]\n",
    "\n",
    "propernouns = [word for word,pos in tagged_sent if pos == 'NNP']"
   ]
  },
  {
   "cell_type": "code",
   "execution_count": 30,
   "metadata": {
    "collapsed": true
   },
   "outputs": [],
   "source": [
    "def get_proper_nouns(sentence):\n",
    "    tagged_sent = pos_tag(sentence.split())\n",
    "    propernouns = [word for word, pos in tagged_sent if pos == 'NNP']\n",
    "    return propernouns"
   ]
  },
  {
   "cell_type": "code",
   "execution_count": 119,
   "metadata": {
    "collapsed": true
   },
   "outputs": [],
   "source": [
    "for row in channel_lookup:\n",
    "    row['channel_id_corrected'] = 'UU' + row['channel_id'][2:]"
   ]
  },
  {
   "cell_type": "code",
   "execution_count": 35,
   "metadata": {},
   "outputs": [
    {
     "data": {
      "text/html": [
       "<div>\n",
       "<table border=\"1\" class=\"dataframe\">\n",
       "  <thead>\n",
       "    <tr style=\"text-align: right;\">\n",
       "      <th></th>\n",
       "      <th>channel_id</th>\n",
       "      <th>channel_title</th>\n",
       "      <th>collection_date</th>\n",
       "      <th>video_category</th>\n",
       "      <th>video_comment_count</th>\n",
       "      <th>video_description</th>\n",
       "      <th>video_dislike_count</th>\n",
       "      <th>video_id</th>\n",
       "      <th>video_like_count</th>\n",
       "      <th>video_publish_date</th>\n",
       "      <th>video_thumbnail</th>\n",
       "      <th>video_title</th>\n",
       "      <th>video_view_count</th>\n",
       "    </tr>\n",
       "  </thead>\n",
       "  <tbody>\n",
       "    <tr>\n",
       "      <th>189</th>\n",
       "      <td>UCIveFvW-ARp_B_RckhweNJw</td>\n",
       "      <td>StevenCrowder</td>\n",
       "      <td>2018-03-14 15:23:20.614022</td>\n",
       "      <td>23</td>\n",
       "      <td>7023.0</td>\n",
       "      <td>Behold, the new face of transgender fascism. O...</td>\n",
       "      <td>997.0</td>\n",
       "      <td>8DAZ8wTxCuw</td>\n",
       "      <td>29343.0</td>\n",
       "      <td>2017-04-25 01:54:10.000000</td>\n",
       "      <td>https://i.ytimg.com/vi/8DAZ8wTxCuw/hqdefault.jpg</td>\n",
       "      <td>TRANSGENDER FASCISM: Caitlyn Jenner Goes FULL ...</td>\n",
       "      <td>811757.0</td>\n",
       "    </tr>\n",
       "    <tr>\n",
       "      <th>248</th>\n",
       "      <td>UCIveFvW-ARp_B_RckhweNJw</td>\n",
       "      <td>StevenCrowder</td>\n",
       "      <td>2018-03-14 15:23:20.614022</td>\n",
       "      <td>23</td>\n",
       "      <td>4171.0</td>\n",
       "      <td>We have definitive proof. Bernie Sanders is a ...</td>\n",
       "      <td>1790.0</td>\n",
       "      <td>5xJWGoS-f88</td>\n",
       "      <td>14385.0</td>\n",
       "      <td>2017-01-31 01:02:49.000000</td>\n",
       "      <td>https://i.ytimg.com/vi/5xJWGoS-f88/hqdefault.jpg</td>\n",
       "      <td>PROOF: Bernie Sanders is a Full Blown #SJW</td>\n",
       "      <td>377583.0</td>\n",
       "    </tr>\n",
       "    <tr>\n",
       "      <th>302</th>\n",
       "      <td>UCIveFvW-ARp_B_RckhweNJw</td>\n",
       "      <td>StevenCrowder</td>\n",
       "      <td>2018-03-14 15:23:20.614022</td>\n",
       "      <td>23</td>\n",
       "      <td>14510.0</td>\n",
       "      <td>Join the Mug Club: http://louderwithcrowder.co...</td>\n",
       "      <td>1815.0</td>\n",
       "      <td>TmNyzvH7H3c</td>\n",
       "      <td>73695.0</td>\n",
       "      <td>2016-10-06 00:37:16.000000</td>\n",
       "      <td>https://i.ytimg.com/vi/TmNyzvH7H3c/hqdefault.jpg</td>\n",
       "      <td>UNDERCOVER: Crashing College Socialist #SJW Pr...</td>\n",
       "      <td>6765845.0</td>\n",
       "    </tr>\n",
       "    <tr>\n",
       "      <th>303</th>\n",
       "      <td>UCIveFvW-ARp_B_RckhweNJw</td>\n",
       "      <td>StevenCrowder</td>\n",
       "      <td>2018-03-14 15:23:20.614022</td>\n",
       "      <td>23</td>\n",
       "      <td>3985.0</td>\n",
       "      <td>Join the Mug Club: http://louderwithcrowder.co...</td>\n",
       "      <td>473.0</td>\n",
       "      <td>BO-qNLqYKAw</td>\n",
       "      <td>24945.0</td>\n",
       "      <td>2016-10-04 21:46:39.000000</td>\n",
       "      <td>https://i.ytimg.com/vi/BO-qNLqYKAw/hqdefault.jpg</td>\n",
       "      <td>LIKING BEWBS IS SEXIST! Ariel Winter Goes Full...</td>\n",
       "      <td>959008.0</td>\n",
       "    </tr>\n",
       "    <tr>\n",
       "      <th>305</th>\n",
       "      <td>UCIveFvW-ARp_B_RckhweNJw</td>\n",
       "      <td>StevenCrowder</td>\n",
       "      <td>2018-03-14 15:23:20.614022</td>\n",
       "      <td>23</td>\n",
       "      <td>9302.0</td>\n",
       "      <td>Join the Mug Club: http://louderwithcrowder.co...</td>\n",
       "      <td>4812.0</td>\n",
       "      <td>II-fuitLb8M</td>\n",
       "      <td>30989.0</td>\n",
       "      <td>2016-09-30 18:30:00.000000</td>\n",
       "      <td>https://i.ytimg.com/vi/II-fuitLb8M/hqdefault.jpg</td>\n",
       "      <td>FAIL: Emma Watson is a Dumb #SJW Feminist  | L...</td>\n",
       "      <td>1126864.0</td>\n",
       "    </tr>\n",
       "    <tr>\n",
       "      <th>321</th>\n",
       "      <td>UCIveFvW-ARp_B_RckhweNJw</td>\n",
       "      <td>StevenCrowder</td>\n",
       "      <td>2018-03-14 15:23:20.614022</td>\n",
       "      <td>23</td>\n",
       "      <td>2907.0</td>\n",
       "      <td>Talking everything Trump immigration, dildos a...</td>\n",
       "      <td>177.0</td>\n",
       "      <td>M9IhGJfaZ9M</td>\n",
       "      <td>4689.0</td>\n",
       "      <td>2016-08-26 14:00:29.000000</td>\n",
       "      <td>https://i.ytimg.com/vi/M9IhGJfaZ9M/hqdefault.jpg</td>\n",
       "      <td>#88 #SJW FEMINISTS WITH ILLEGAL DILDOS! Curt S...</td>\n",
       "      <td>256453.0</td>\n",
       "    </tr>\n",
       "    <tr>\n",
       "      <th>322</th>\n",
       "      <td>UCIveFvW-ARp_B_RckhweNJw</td>\n",
       "      <td>StevenCrowder</td>\n",
       "      <td>2018-03-14 15:23:20.614022</td>\n",
       "      <td>23</td>\n",
       "      <td>2550.0</td>\n",
       "      <td>Join the Mug Club: http://louderwithcrowder.co...</td>\n",
       "      <td>392.0</td>\n",
       "      <td>NsSGUsyqboA</td>\n",
       "      <td>15031.0</td>\n",
       "      <td>2016-08-20 14:44:01.000000</td>\n",
       "      <td>https://i.ytimg.com/vi/NsSGUsyqboA/hqdefault.jpg</td>\n",
       "      <td>#SJW Amy Schumer Supports 'Rape Culture' | Lou...</td>\n",
       "      <td>563337.0</td>\n",
       "    </tr>\n",
       "    <tr>\n",
       "      <th>327</th>\n",
       "      <td>UCIveFvW-ARp_B_RckhweNJw</td>\n",
       "      <td>StevenCrowder</td>\n",
       "      <td>2018-03-14 15:23:20.614022</td>\n",
       "      <td>23</td>\n",
       "      <td>3621.0</td>\n",
       "      <td>Join the Mug Club: http://louderwithcrowder.co...</td>\n",
       "      <td>935.0</td>\n",
       "      <td>eb7QCilpFh8</td>\n",
       "      <td>12227.0</td>\n",
       "      <td>2016-08-06 14:00:03.000000</td>\n",
       "      <td>https://i.ytimg.com/vi/eb7QCilpFh8/hqdefault.jpg</td>\n",
       "      <td>Cenk Vs Dinesh: Have The Young Turks Always Be...</td>\n",
       "      <td>395559.0</td>\n",
       "    </tr>\n",
       "    <tr>\n",
       "      <th>361</th>\n",
       "      <td>UCIveFvW-ARp_B_RckhweNJw</td>\n",
       "      <td>StevenCrowder</td>\n",
       "      <td>2018-03-14 15:23:20.614022</td>\n",
       "      <td>23</td>\n",
       "      <td>10733.0</td>\n",
       "      <td>Join the Mug Club: http://louderwithcrowder.co...</td>\n",
       "      <td>6116.0</td>\n",
       "      <td>pv_mka0Yh0M</td>\n",
       "      <td>32135.0</td>\n",
       "      <td>2016-05-20 18:30:01.000000</td>\n",
       "      <td>https://i.ytimg.com/vi/pv_mka0Yh0M/hqdefault.jpg</td>\n",
       "      <td>BANNED FROM YOUTUBE: Amy Schumer Goes Full #SJ...</td>\n",
       "      <td>3609976.0</td>\n",
       "    </tr>\n",
       "    <tr>\n",
       "      <th>394</th>\n",
       "      <td>UCIveFvW-ARp_B_RckhweNJw</td>\n",
       "      <td>StevenCrowder</td>\n",
       "      <td>2018-03-14 15:23:20.614022</td>\n",
       "      <td>23</td>\n",
       "      <td>263.0</td>\n",
       "      <td>Larry Elder stops by to talks all things Justi...</td>\n",
       "      <td>46.0</td>\n",
       "      <td>HLJIe1oKc2k</td>\n",
       "      <td>1552.0</td>\n",
       "      <td>2016-02-22 23:22:11.000000</td>\n",
       "      <td>https://i.ytimg.com/vi/HLJIe1oKc2k/hqdefault.jpg</td>\n",
       "      <td>Larry Elder Talks #SJW and #BlackLivesMatter R...</td>\n",
       "      <td>74831.0</td>\n",
       "    </tr>\n",
       "    <tr>\n",
       "      <th>408</th>\n",
       "      <td>UCIveFvW-ARp_B_RckhweNJw</td>\n",
       "      <td>StevenCrowder</td>\n",
       "      <td>2018-03-14 15:23:20.614022</td>\n",
       "      <td>23</td>\n",
       "      <td>2657.0</td>\n",
       "      <td>Theryn Meyer, Louder with Crowder's Reasonable...</td>\n",
       "      <td>351.0</td>\n",
       "      <td>0l6fSAXfIDU</td>\n",
       "      <td>5215.0</td>\n",
       "      <td>2016-02-01 23:29:51.000000</td>\n",
       "      <td>https://i.ytimg.com/vi/0l6fSAXfIDU/hqdefault.jpg</td>\n",
       "      <td>The Reasonable Tranny Talks #SJWs | Louder Wit...</td>\n",
       "      <td>287192.0</td>\n",
       "    </tr>\n",
       "  </tbody>\n",
       "</table>\n",
       "</div>"
      ],
      "text/plain": [
       "                   channel_id  channel_title             collection_date  \\\n",
       "189  UCIveFvW-ARp_B_RckhweNJw  StevenCrowder  2018-03-14 15:23:20.614022   \n",
       "248  UCIveFvW-ARp_B_RckhweNJw  StevenCrowder  2018-03-14 15:23:20.614022   \n",
       "302  UCIveFvW-ARp_B_RckhweNJw  StevenCrowder  2018-03-14 15:23:20.614022   \n",
       "303  UCIveFvW-ARp_B_RckhweNJw  StevenCrowder  2018-03-14 15:23:20.614022   \n",
       "305  UCIveFvW-ARp_B_RckhweNJw  StevenCrowder  2018-03-14 15:23:20.614022   \n",
       "321  UCIveFvW-ARp_B_RckhweNJw  StevenCrowder  2018-03-14 15:23:20.614022   \n",
       "322  UCIveFvW-ARp_B_RckhweNJw  StevenCrowder  2018-03-14 15:23:20.614022   \n",
       "327  UCIveFvW-ARp_B_RckhweNJw  StevenCrowder  2018-03-14 15:23:20.614022   \n",
       "361  UCIveFvW-ARp_B_RckhweNJw  StevenCrowder  2018-03-14 15:23:20.614022   \n",
       "394  UCIveFvW-ARp_B_RckhweNJw  StevenCrowder  2018-03-14 15:23:20.614022   \n",
       "408  UCIveFvW-ARp_B_RckhweNJw  StevenCrowder  2018-03-14 15:23:20.614022   \n",
       "\n",
       "     video_category  video_comment_count  \\\n",
       "189              23               7023.0   \n",
       "248              23               4171.0   \n",
       "302              23              14510.0   \n",
       "303              23               3985.0   \n",
       "305              23               9302.0   \n",
       "321              23               2907.0   \n",
       "322              23               2550.0   \n",
       "327              23               3621.0   \n",
       "361              23              10733.0   \n",
       "394              23                263.0   \n",
       "408              23               2657.0   \n",
       "\n",
       "                                     video_description  video_dislike_count  \\\n",
       "189  Behold, the new face of transgender fascism. O...                997.0   \n",
       "248  We have definitive proof. Bernie Sanders is a ...               1790.0   \n",
       "302  Join the Mug Club: http://louderwithcrowder.co...               1815.0   \n",
       "303  Join the Mug Club: http://louderwithcrowder.co...                473.0   \n",
       "305  Join the Mug Club: http://louderwithcrowder.co...               4812.0   \n",
       "321  Talking everything Trump immigration, dildos a...                177.0   \n",
       "322  Join the Mug Club: http://louderwithcrowder.co...                392.0   \n",
       "327  Join the Mug Club: http://louderwithcrowder.co...                935.0   \n",
       "361  Join the Mug Club: http://louderwithcrowder.co...               6116.0   \n",
       "394  Larry Elder stops by to talks all things Justi...                 46.0   \n",
       "408  Theryn Meyer, Louder with Crowder's Reasonable...                351.0   \n",
       "\n",
       "        video_id  video_like_count          video_publish_date  \\\n",
       "189  8DAZ8wTxCuw           29343.0  2017-04-25 01:54:10.000000   \n",
       "248  5xJWGoS-f88           14385.0  2017-01-31 01:02:49.000000   \n",
       "302  TmNyzvH7H3c           73695.0  2016-10-06 00:37:16.000000   \n",
       "303  BO-qNLqYKAw           24945.0  2016-10-04 21:46:39.000000   \n",
       "305  II-fuitLb8M           30989.0  2016-09-30 18:30:00.000000   \n",
       "321  M9IhGJfaZ9M            4689.0  2016-08-26 14:00:29.000000   \n",
       "322  NsSGUsyqboA           15031.0  2016-08-20 14:44:01.000000   \n",
       "327  eb7QCilpFh8           12227.0  2016-08-06 14:00:03.000000   \n",
       "361  pv_mka0Yh0M           32135.0  2016-05-20 18:30:01.000000   \n",
       "394  HLJIe1oKc2k            1552.0  2016-02-22 23:22:11.000000   \n",
       "408  0l6fSAXfIDU            5215.0  2016-02-01 23:29:51.000000   \n",
       "\n",
       "                                      video_thumbnail  \\\n",
       "189  https://i.ytimg.com/vi/8DAZ8wTxCuw/hqdefault.jpg   \n",
       "248  https://i.ytimg.com/vi/5xJWGoS-f88/hqdefault.jpg   \n",
       "302  https://i.ytimg.com/vi/TmNyzvH7H3c/hqdefault.jpg   \n",
       "303  https://i.ytimg.com/vi/BO-qNLqYKAw/hqdefault.jpg   \n",
       "305  https://i.ytimg.com/vi/II-fuitLb8M/hqdefault.jpg   \n",
       "321  https://i.ytimg.com/vi/M9IhGJfaZ9M/hqdefault.jpg   \n",
       "322  https://i.ytimg.com/vi/NsSGUsyqboA/hqdefault.jpg   \n",
       "327  https://i.ytimg.com/vi/eb7QCilpFh8/hqdefault.jpg   \n",
       "361  https://i.ytimg.com/vi/pv_mka0Yh0M/hqdefault.jpg   \n",
       "394  https://i.ytimg.com/vi/HLJIe1oKc2k/hqdefault.jpg   \n",
       "408  https://i.ytimg.com/vi/0l6fSAXfIDU/hqdefault.jpg   \n",
       "\n",
       "                                           video_title  video_view_count  \n",
       "189  TRANSGENDER FASCISM: Caitlyn Jenner Goes FULL ...          811757.0  \n",
       "248         PROOF: Bernie Sanders is a Full Blown #SJW          377583.0  \n",
       "302  UNDERCOVER: Crashing College Socialist #SJW Pr...         6765845.0  \n",
       "303  LIKING BEWBS IS SEXIST! Ariel Winter Goes Full...          959008.0  \n",
       "305  FAIL: Emma Watson is a Dumb #SJW Feminist  | L...         1126864.0  \n",
       "321  #88 #SJW FEMINISTS WITH ILLEGAL DILDOS! Curt S...          256453.0  \n",
       "322  #SJW Amy Schumer Supports 'Rape Culture' | Lou...          563337.0  \n",
       "327  Cenk Vs Dinesh: Have The Young Turks Always Be...          395559.0  \n",
       "361  BANNED FROM YOUTUBE: Amy Schumer Goes Full #SJ...         3609976.0  \n",
       "394  Larry Elder Talks #SJW and #BlackLivesMatter R...           74831.0  \n",
       "408  The Reasonable Tranny Talks #SJWs | Louder Wit...          287192.0  "
      ]
     },
     "execution_count": 35,
     "metadata": {},
     "output_type": "execute_result"
    }
   ],
   "source": [
    "df[(df['video_title'].str.contains('#sjw', case=False)) &\n",
    "   (df['video_description'].str.contains('#sjw', case=False))]"
   ]
  },
  {
   "cell_type": "code",
   "execution_count": 32,
   "metadata": {},
   "outputs": [
    {
     "data": {
      "text/plain": [
       "0            [Racist, Extremists!, |, Louder, Crowder]\n",
       "1    [WHY, CAN’T, TRUMP, KEEP, STAFF??, Ben, Shapir...\n",
       "2     [ARM, TEACHERS?!, Course..., |, Louder, Crowder]\n",
       "3    [CONVERSATIONS:, Male, Privilege, A, Myth, (2n...\n",
       "4    [Death, Wish, Gets, #SJW, Makeover!, (Parody),...\n",
       "Name: video_title, dtype: object"
      ]
     },
     "execution_count": 32,
     "metadata": {},
     "output_type": "execute_result"
    }
   ],
   "source": [
    "df['video_title'].head().apply(get_proper_nouns)"
   ]
  },
  {
   "cell_type": "code",
   "execution_count": 36,
   "metadata": {},
   "outputs": [
    {
     "data": {
      "text/plain": [
       "Index(['channel_id', 'channel_title', 'collection_date', 'video_category',\n",
       "       'video_comment_count', 'video_description', 'video_dislike_count',\n",
       "       'video_id', 'video_like_count', 'video_publish_date', 'video_thumbnail',\n",
       "       'video_title', 'video_view_count'],\n",
       "      dtype='object')"
      ]
     },
     "execution_count": 36,
     "metadata": {},
     "output_type": "execute_result"
    }
   ],
   "source": [
    "df.columns"
   ]
  },
  {
   "cell_type": "markdown",
   "metadata": {},
   "source": [
    "We can normalize stats"
   ]
  },
  {
   "cell_type": "code",
   "execution_count": 37,
   "metadata": {
    "collapsed": true
   },
   "outputs": [],
   "source": [
    "def normalize_stats(row):\n",
    "    view_count = row['video_view_count']\n",
    "    like_count = row['video_like_count']\n",
    "    dislike_count = row['video_dislike_count']\n",
    "    comment_count = row['video_comment_count']\n",
    "    \n",
    "    return like_count / view_count, dislike_count / view_count, comment_count / view_count"
   ]
  },
  {
   "cell_type": "code",
   "execution_count": 44,
   "metadata": {},
   "outputs": [],
   "source": [
    "(df['likes_normal'], \n",
    " df['dislikes_normal'],\n",
    " df['engagement_normal']) = zip(*df.apply(normalize_stats, axis=1))"
   ]
  },
  {
   "cell_type": "code",
   "execution_count": 49,
   "metadata": {},
   "outputs": [
    {
     "data": {
      "text/html": [
       "<div>\n",
       "<table border=\"1\" class=\"dataframe\">\n",
       "  <thead>\n",
       "    <tr style=\"text-align: right;\">\n",
       "      <th></th>\n",
       "      <th>video_title</th>\n",
       "      <th>channel_title</th>\n",
       "    </tr>\n",
       "  </thead>\n",
       "  <tbody>\n",
       "    <tr>\n",
       "      <th>420</th>\n",
       "      <td>All the problems with Pirates of the Caribbean...</td>\n",
       "      <td>Vee</td>\n",
       "    </tr>\n",
       "  </tbody>\n",
       "</table>\n",
       "</div>"
      ],
      "text/plain": [
       "                                           video_title channel_title\n",
       "420  All the problems with Pirates of the Caribbean...           Vee"
      ]
     },
     "execution_count": 49,
     "metadata": {},
     "output_type": "execute_result"
    }
   ],
   "source": [
    "df[df['likes_normal'] == df['likes_normal'].max()][['video_title', 'channel_title']]"
   ]
  },
  {
   "cell_type": "code",
   "execution_count": 50,
   "metadata": {},
   "outputs": [
    {
     "data": {
      "text/html": [
       "<div>\n",
       "<table border=\"1\" class=\"dataframe\">\n",
       "  <thead>\n",
       "    <tr style=\"text-align: right;\">\n",
       "      <th></th>\n",
       "      <th>video_title</th>\n",
       "      <th>channel_title</th>\n",
       "    </tr>\n",
       "  </thead>\n",
       "  <tbody>\n",
       "    <tr>\n",
       "      <th>5</th>\n",
       "      <td>(NG+ Any%) Hotline Miami Speedrun - 22:41</td>\n",
       "      <td>usernamegold</td>\n",
       "    </tr>\n",
       "    <tr>\n",
       "      <th>8</th>\n",
       "      <td>(NG+ Any%) Hotline Miami Speedrun - 32:57</td>\n",
       "      <td>usernamegold</td>\n",
       "    </tr>\n",
       "    <tr>\n",
       "      <th>9</th>\n",
       "      <td>(NG+ Any%) Hotline Miami Speedrun - 36:24</td>\n",
       "      <td>usernamegold</td>\n",
       "    </tr>\n",
       "    <tr>\n",
       "      <th>2807</th>\n",
       "      <td>GOP Leaders Talk About Expanding Opportunity a...</td>\n",
       "      <td>One America News Network</td>\n",
       "    </tr>\n",
       "  </tbody>\n",
       "</table>\n",
       "</div>"
      ],
      "text/plain": [
       "                                            video_title  \\\n",
       "5             (NG+ Any%) Hotline Miami Speedrun - 22:41   \n",
       "8             (NG+ Any%) Hotline Miami Speedrun - 32:57   \n",
       "9             (NG+ Any%) Hotline Miami Speedrun - 36:24   \n",
       "2807  GOP Leaders Talk About Expanding Opportunity a...   \n",
       "\n",
       "                 channel_title  \n",
       "5                 usernamegold  \n",
       "8                 usernamegold  \n",
       "9                 usernamegold  \n",
       "2807  One America News Network  "
      ]
     },
     "execution_count": 50,
     "metadata": {},
     "output_type": "execute_result"
    }
   ],
   "source": [
    "df[df['likes_normal'] == df['likes_normal'].min()][['video_title', 'channel_title']]"
   ]
  },
  {
   "cell_type": "code",
   "execution_count": 122,
   "metadata": {},
   "outputs": [
    {
     "data": {
      "text/plain": [
       "[{'channel_id': 'UCIveFvW-ARp_B_RckhweNJw',\n",
       "  'channel_id_corrected': 'UUIveFvW-ARp_B_RckhweNJw',\n",
       "  'channel_title': 'StevenCrowder'},\n",
       " {'channel_id': 'UC7SeFWZYFmsm1tqWxfuOTPQ',\n",
       "  'channel_id_corrected': 'UU7SeFWZYFmsm1tqWxfuOTPQ',\n",
       "  'channel_title': 'Count Dankula'},\n",
       " {'channel_id': 'UCC3L8QaxqEGUiBC252GHy3w',\n",
       "  'channel_id_corrected': 'UUC3L8QaxqEGUiBC252GHy3w',\n",
       "  'channel_title': 'Stefan Molyneux'},\n",
       " {'channel_id': 'UC16j6EppP0K85CzYMduNCqw',\n",
       "  'channel_id_corrected': 'UU16j6EppP0K85CzYMduNCqw',\n",
       "  'channel_title': 'Roosh V'},\n",
       " {'channel_id': 'UCZeP6H2mELnRI9imY5Iga0g',\n",
       "  'channel_id_corrected': 'UUZeP6H2mELnRI9imY5Iga0g',\n",
       "  'channel_title': 'Wife With A Purpose'}]"
      ]
     },
     "execution_count": 122,
     "metadata": {},
     "output_type": "execute_result"
    }
   ],
   "source": [
    "# How do we know which ID corresponds to which user?\n",
    "channel_lookup = (df.drop_duplicates(subset='channel_id')\n",
    "                    [['channel_id', 'channel_title']]\n",
    "                    .to_dict(orient='records'))\n",
    "\n",
    "for row in channel_lookup:\n",
    "    row['channel_id_corrected'] = 'UU' + row['channel_id'][2:]\n",
    "\n",
    "channel_lookup[:5]"
   ]
  }
 ],
 "metadata": {
  "kernelspec": {
   "display_name": "Python 3",
   "language": "python",
   "name": "python3"
  },
  "language_info": {
   "codemirror_mode": {
    "name": "ipython",
    "version": 3
   },
   "file_extension": ".py",
   "mimetype": "text/x-python",
   "name": "python",
   "nbconvert_exporter": "python",
   "pygments_lexer": "ipython3",
   "version": "3.6.1"
  }
 },
 "nbformat": 4,
 "nbformat_minor": 2
}
