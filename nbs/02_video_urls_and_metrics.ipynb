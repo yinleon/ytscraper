{
 "cells": [
  {
   "cell_type": "code",
   "execution_count": 1,
   "metadata": {
    "collapsed": false
   },
   "outputs": [
    {
     "name": "stdout",
     "output_type": "stream",
     "text": [
      "Updated 2018-03-12 18:42:44.418604\n",
      "By ly501\n",
      "Using Python 3.6.1\n",
      "On Linux-3.10.0-514.10.2.el7.x86_64-x86_64-with-centos-7.3.1611-Core\n"
     ]
    }
   ],
   "source": [
    "import os\n",
    "import json\n",
    "import shutil\n",
    "import requests\n",
    "import datetime\n",
    "from multiprocessing import Pool\n",
    "from itertools import repeat\n",
    "from tqdm import tqdm_notebook as tqdm\n",
    "import pandas as pd\n",
    "from runtimestamp.runtimestamp import runtimestamp\n",
    "runtimestamp()"
   ]
  },
  {
   "cell_type": "code",
   "execution_count": 2,
   "metadata": {
    "collapsed": true,
    "deletable": true,
    "editable": true
   },
   "outputs": [],
   "source": [
    "#Import necessary libraries and load api keys\n",
    "key = os.environ.get('YT_KEY')\n",
    "today = datetime.datetime.now()\n",
    "root_dir = '/beegfs/work/smapp/youtube/'"
   ]
  },
  {
   "cell_type": "code",
   "execution_count": 3,
   "metadata": {
    "collapsed": true
   },
   "outputs": [],
   "source": [
    "def get_playlist_id(username, key):\n",
    "    '''\n",
    "    Get a playlist ID (channel) from a username\n",
    "    '''\n",
    "    url = (\"https://www.googleapis.com/youtube/v3/channels\"\n",
    "           \"?part=contentDetails\"\n",
    "           \"&forUsername={}&key={}\".format(username,key))\n",
    "    response = requests.get(url)\n",
    "    if response.ok:\n",
    "        response_json = json.loads(response.text)\n",
    "        if \"items\" in response_json:\n",
    "            if response_json['items']:\n",
    "                channel_id = response_json['items'][0]['id']\n",
    "                return channel_id\n",
    "    return -1"
   ]
  },
  {
   "cell_type": "code",
   "execution_count": 89,
   "metadata": {
    "collapsed": false
   },
   "outputs": [],
   "source": [
    "def get_video_urls_from_playlist_id(playlist_id, key):\n",
    "    '''\n",
    "    Returns all video URLs from a play list id.\n",
    "    '''\n",
    "    url = (\"https://www.googleapis.com/youtube/v3/playlistItems\"\n",
    "           \"?part=snippet&playlistId={}\"\n",
    "           \"&maxResults=50\"\n",
    "           \"&key={}\".format(playlist_id, key))\n",
    "    \n",
    "    next_page_token = None\n",
    "    ids = []\n",
    "    run = True\n",
    "    while run:\n",
    "        if next_page_token: \n",
    "            url += \"&pageToken={}\".format(next_page_token)\n",
    "        response = requests.get(url)\n",
    "        if response.ok:\n",
    "            response_json = json.loads(response.text)\n",
    "            for item in response_json['items']:\n",
    "                ids.append(item['snippet']['resourceId']['videoId'])\n",
    "            try: \n",
    "                next_page_token = response_json['nextPageToken']\n",
    "            except:\n",
    "                run = False\n",
    "            print(\"{} Videos\".format(len(ids)))\n",
    "        else:\n",
    "            print(response)\n",
    "            run = False\n",
    "    \n",
    "    return ids"
   ]
  },
  {
   "cell_type": "code",
   "execution_count": 5,
   "metadata": {
    "collapsed": true
   },
   "outputs": [],
   "source": [
    "def parse_video_metadata(item):\n",
    "    '''\n",
    "    Parses a JSON object for relevant fields\n",
    "    '''\n",
    "    video_meta = dict(\n",
    "        channel_title = item[\"snippet\"][\"channelTitle\"],\n",
    "        channel_id =item[\"snippet\"][\"channelId\"],\n",
    "        video_publish_date = item[\"snippet\"][\"publishedAt\"],\n",
    "        video_title = item[\"snippet\"][\"title\"],\n",
    "        video_description = item[\"snippet\"][\"description\"],\n",
    "        video_category = item[\"snippet\"][\"categoryId\"],\n",
    "        video_view_count = item[\"statistics\"][\"viewCount\"],\n",
    "        video_comment_count = item[\"statistics\"][\"commentCount\"],\n",
    "        video_like_count = item[\"statistics\"][\"likeCount\"],\n",
    "        video_dislike_count = item[\"statistics\"][\"dislikeCount\"],\n",
    "        video_thumbnail = item[\"snippet\"][\"thumbnails\"][\"high\"][\"url\"],\n",
    "        collection_date = today\n",
    "    )\n",
    "    \n",
    "    return video_meta"
   ]
  },
  {
   "cell_type": "code",
   "execution_count": 6,
   "metadata": {
    "collapsed": false
   },
   "outputs": [],
   "source": [
    "def get_video_metadata(video_id, key):\n",
    "    '''\n",
    "    Gets the raw video metadata, and parses it.\n",
    "    '''\n",
    "    http_endpoint = (\"https://www.googleapis.com/youtube/v3/videos\"\n",
    "                     \"?part=statistics,snippet\"\n",
    "                     \"&id={}&key={}\".format(video_id, key))\n",
    "    response = requests.get(http_endpoint)\n",
    "    if response.ok:\n",
    "        response_json = json.loads(response.text)\n",
    "        if 'items' in response_json:\n",
    "            video_meta = response_json['items'][0]\n",
    "            return parse_video_metadata(video_meta)\n",
    "    return -1"
   ]
  },
  {
   "cell_type": "code",
   "execution_count": 92,
   "metadata": {
    "collapsed": true
   },
   "outputs": [],
   "source": [
    "def get_context(playlist_id):\n",
    "    '''\n",
    "    Makes directory for a playlist (channel)\n",
    "    Returns the name of the metadata file.\n",
    "    '''\n",
    "    channel_dir = os.path.join(root_dir, playlist_id)\n",
    "    metadata_filename = os.path.join(channel_dir, 'video_metadata.tsv')\n",
    "    urls_filename = os.path.join(channel_dir, 'video_urls.csv')\n",
    "    \n",
    "    os.makedirs(channel_dir, exist_ok=True)\n",
    "    shutil.chown(channel_dir, group='smapp')\n",
    "    return metadata_filename, urls_filename"
   ]
  },
  {
   "cell_type": "code",
   "execution_count": 8,
   "metadata": {
    "collapsed": false
   },
   "outputs": [],
   "source": [
    "def is_user(channel_url):\n",
    "    '''\n",
    "    Checks if url is channel or user\n",
    "    '''\n",
    "    if 'youtube.com/user/' in channel_url:\n",
    "        return True\n",
    "    elif 'youtube.com/channel/' in channel_url:\n",
    "        return False\n",
    "    else:\n",
    "        return"
   ]
  },
  {
   "cell_type": "code",
   "execution_count": 9,
   "metadata": {
    "collapsed": false
   },
   "outputs": [],
   "source": [
    "def get_youtube_id(channel_url):\n",
    "    '''\n",
    "    From a URL returns the YT ID.\n",
    "    '''\n",
    "    return channel_url.rstrip('/').split('/')[-1]"
   ]
  },
  {
   "cell_type": "code",
   "execution_count": 10,
   "metadata": {
    "collapsed": true
   },
   "outputs": [],
   "source": [
    "channels = '''https://www.youtube.com/user/SargonofAkkad100/\n",
    "https://www.youtube.com/channel/UCL0u5uz7KZ9q-pe-VC8TY-w/\n",
    "https://www.youtube.com/channel/UCla6APLHX6W3FeNLc8PYuvg\n",
    "https://www.youtube.com/user/Timcasts/'''.split('\\n')"
   ]
  },
  {
   "cell_type": "code",
   "execution_count": 119,
   "metadata": {
    "collapsed": false
   },
   "outputs": [],
   "source": [
    "df_users = pd.read_csv('../data/users.csv')"
   ]
  },
  {
   "cell_type": "code",
   "execution_count": 121,
   "metadata": {
    "collapsed": false
   },
   "outputs": [],
   "source": [
    "channels = df_users['users'].tolist()"
   ]
  },
  {
   "cell_type": "code",
   "execution_count": 111,
   "metadata": {
    "collapsed": false
   },
   "outputs": [
    {
     "name": "stdout",
     "output_type": "stream",
     "text": [
      "\n",
      "23701 /beegfs/work/smapp/youtube/SargonofAkkad100/video_urls.csv\n"
     ]
    }
   ],
   "source": [
    "!wc -l /beegfs/work/smapp/youtube/SargonofAkkad100/video_urls.csv"
   ]
  },
  {
   "cell_type": "code",
   "execution_count": 122,
   "metadata": {
    "collapsed": false
   },
   "outputs": [],
   "source": [
    "for channel in channels:\n",
    "    print(channel)\n",
    "    yt_id = get_youtube_id(channel)\n",
    "    playlist_id = get_playlist_id(yt_id, key) if is_user(channel) else yt_id\n",
    "    playlist_id = 'UU' + playlist_id[2:]\n",
    "    if not playlist_id:\n",
    "        print(\"Getting the playlist ID is not working\")\n",
    "        continue\n",
    "    metadata_filename, urls_filename = get_context(playlist_id)\n",
    "    if not os.path.exists(metadata_filename):\n",
    "        if not os.path.exists(urls_filename):\n",
    "            video_urls = get_video_urls_from_playlist_id(playlist_id, key)\n",
    "            if not video_urls:\n",
    "                print(\"Listing Video URLs is not working\")\n",
    "                continue\n",
    "            df_urls = pd.DataFrame(video_urls).to_csv(urls_filename, index=False)\n",
    "        else:\n",
    "            print(\"Cached that list\")\n",
    "            video_urls = pd.read_csv(urls_filename)['0'].tolist()\n",
    "\n",
    "        # parse each video from the user\n",
    "        with Pool(4) as pool:\n",
    "            video_meta = pool.starmap(get_video_metadata, zip(video_urls[:5], repeat(key)))\n",
    "        df = pd.DataFrame(video_meta)\n",
    "        # write to csv\n",
    "        df.to_csv(metadata_filename, index=False, sep='\\t')  \n",
    "        shutil.chown(metadata_filename, group='smapp')"
   ]
  },
  {
   "cell_type": "code",
   "execution_count": 138,
   "metadata": {
    "collapsed": false
   },
   "outputs": [],
   "source": [
    "def get_all_keys(d, key=[]):\n",
    "    '''\n",
    "    A recursive function that traverses json keys in a dict `d`,\n",
    "    and prints the path to all keys\n",
    "    '''\n",
    "    if not isinstance(d, dict):\n",
    "        print(''.join(['[\"' + k + '\"]' for k in key]))\n",
    "        return\n",
    "    \n",
    "    for k, v in d.items():\n",
    "        key_path = key + [k]\n",
    "        get_all_columns(d[k], key_path)"
   ]
  },
  {
   "cell_type": "code",
   "execution_count": 139,
   "metadata": {
    "collapsed": false
   },
   "outputs": [
    {
     "name": "stdout",
     "output_type": "stream",
     "text": [
      "[\"kind\"]\n",
      "[\"etag\"]\n",
      "[\"id\"]\n",
      "[\"snippet\"][\"publishedAt\"]\n",
      "[\"snippet\"][\"channelId\"]\n",
      "[\"snippet\"][\"title\"]\n",
      "[\"snippet\"][\"description\"]\n",
      "[\"snippet\"][\"thumbnails\"][\"default\"][\"url\"]\n",
      "[\"snippet\"][\"thumbnails\"][\"default\"][\"width\"]\n",
      "[\"snippet\"][\"thumbnails\"][\"default\"][\"height\"]\n",
      "[\"snippet\"][\"thumbnails\"][\"medium\"][\"url\"]\n",
      "[\"snippet\"][\"thumbnails\"][\"medium\"][\"width\"]\n",
      "[\"snippet\"][\"thumbnails\"][\"medium\"][\"height\"]\n",
      "[\"snippet\"][\"thumbnails\"][\"high\"][\"url\"]\n",
      "[\"snippet\"][\"thumbnails\"][\"high\"][\"width\"]\n",
      "[\"snippet\"][\"thumbnails\"][\"high\"][\"height\"]\n",
      "[\"snippet\"][\"thumbnails\"][\"standard\"][\"url\"]\n",
      "[\"snippet\"][\"thumbnails\"][\"standard\"][\"width\"]\n",
      "[\"snippet\"][\"thumbnails\"][\"standard\"][\"height\"]\n",
      "[\"snippet\"][\"thumbnails\"][\"maxres\"][\"url\"]\n",
      "[\"snippet\"][\"thumbnails\"][\"maxres\"][\"width\"]\n",
      "[\"snippet\"][\"thumbnails\"][\"maxres\"][\"height\"]\n",
      "[\"snippet\"][\"channelTitle\"]\n",
      "[\"snippet\"][\"categoryId\"]\n",
      "[\"snippet\"][\"liveBroadcastContent\"]\n",
      "[\"snippet\"][\"localized\"][\"title\"]\n",
      "[\"snippet\"][\"localized\"][\"description\"]\n",
      "[\"snippet\"][\"defaultAudioLanguage\"]\n",
      "[\"statistics\"][\"viewCount\"]\n",
      "[\"statistics\"][\"likeCount\"]\n",
      "[\"statistics\"][\"dislikeCount\"]\n",
      "[\"statistics\"][\"favoriteCount\"]\n",
      "[\"statistics\"][\"commentCount\"]\n"
     ]
    }
   ],
   "source": [
    "get_all_columns(response_json['items'][0])"
   ]
  }
 ],
 "metadata": {
  "kernelspec": {
   "display_name": "Python 3",
   "language": "python",
   "name": "python3"
  },
  "language_info": {
   "codemirror_mode": {
    "name": "ipython",
    "version": 3
   },
   "file_extension": ".py",
   "mimetype": "text/x-python",
   "name": "python",
   "nbconvert_exporter": "python",
   "pygments_lexer": "ipython3",
   "version": "3.6.1"
  }
 },
 "nbformat": 4,
 "nbformat_minor": 2
}
